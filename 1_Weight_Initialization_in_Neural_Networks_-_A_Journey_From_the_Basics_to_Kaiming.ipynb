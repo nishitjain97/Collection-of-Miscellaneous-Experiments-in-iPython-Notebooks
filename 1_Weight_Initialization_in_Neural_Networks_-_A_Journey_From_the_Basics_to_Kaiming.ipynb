{
 "cells": [
  {
   "cell_type": "markdown",
   "id": "89c990ed",
   "metadata": {},
   "source": [
    "# Weight Initialization in Neural Networks: A Journey From the Basics to Kaiming"
   ]
  },
  {
   "cell_type": "markdown",
   "id": "3fe94877",
   "metadata": {},
   "source": [
    "## Objective"
   ]
  },
  {
   "cell_type": "markdown",
   "id": "6590d119",
   "metadata": {},
   "source": [
    "The objective of this notebook is to follow [this](https://towardsdatascience.com/weight-initialization-in-neural-networks-a-journey-from-the-basics-to-kaiming-954fb9b47c79) article as it demonstrates weight initialization in neural networks, the issues associated with it and solutions to said issues."
   ]
  },
  {
   "cell_type": "markdown",
   "id": "39a11fc5",
   "metadata": {},
   "source": [
    "## Background"
   ]
  },
  {
   "cell_type": "markdown",
   "id": "a71a3300",
   "metadata": {},
   "source": [
    "* Neural networks are made of a layered architecture with each layer containing a set of weights, biases and an activation function\n",
    "\n",
    "* Input to a layer is first multiplied with the weights, then biases are added to the product and finally it is passed through the activation function\n",
    "\n",
    "* At the start of the training phase for an NN, weights and biases need to be initialized to any value, from where the training then corrects these values to reduce prediction error\n",
    "\n",
    "    * Traditionally, weights are initialized by sampling from a standard normal distribution, while the biases are set to 1\n",
    "\n",
    "    * However, this initialization can lead to exploding gradients (output from the layer becomes infinite or nan) or vanishing gradients (output becomes 0), which can prevent the training from converging to an optima"
   ]
  },
  {
   "cell_type": "code",
   "execution_count": null,
   "id": "e79feb34",
   "metadata": {},
   "outputs": [],
   "source": []
  }
 ],
 "metadata": {
  "kernelspec": {
   "display_name": "Python 3 (ipykernel)",
   "language": "python",
   "name": "python3"
  },
  "language_info": {
   "codemirror_mode": {
    "name": "ipython",
    "version": 3
   },
   "file_extension": ".py",
   "mimetype": "text/x-python",
   "name": "python",
   "nbconvert_exporter": "python",
   "pygments_lexer": "ipython3",
   "version": "3.8.2"
  }
 },
 "nbformat": 4,
 "nbformat_minor": 5
}
